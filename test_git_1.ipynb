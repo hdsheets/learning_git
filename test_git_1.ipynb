{
 "cells": [
  {
   "cell_type": "markdown",
   "id": "d979fdfe-467a-461f-ae75-211e7520b91f",
   "metadata": {},
   "source": [
    "Test file for working with git and github"
   ]
  }
 ],
 "metadata": {
  "kernelspec": {
   "display_name": "Python 3 (ipykernel)",
   "language": "python",
   "name": "python3"
  },
  "language_info": {
   "codemirror_mode": {
    "name": "ipython",
    "version": 3
   },
   "file_extension": ".py",
   "mimetype": "text/x-python",
   "name": "python",
   "nbconvert_exporter": "python",
   "pygments_lexer": "ipython3",
   "version": "3.9.12"
  }
 },
 "nbformat": 4,
 "nbformat_minor": 5
}
